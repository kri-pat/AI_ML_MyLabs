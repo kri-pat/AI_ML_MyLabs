{
 "cells": [
  {
   "cell_type": "markdown",
   "id": "84a36b7a",
   "metadata": {},
   "source": [
    "### Q1. What is an Exception in Python? Write the difference between Exceptions and Syntax Errors.\n",
    "\n",
    "There are two kinds of errors in Python - Syntax Errors and Exceptions. \n",
    "- **Syntax Error:** Syntax Error is caused by incorrect use of pre-defined syntax. Syntax errors are detected while compiling or parsing the source code. Syntax Errors must be fixed, otherwise code will not execute. Eg: misspelled reserved words.\n",
    "    \n",
    "- **Exceptions:** Even if a statement or expression is syntactically correct, it may cause an error when an attempt is made to execute it. Such errors are called Exceptions. Eg: trying to access a missing file. There are ways to handle Exceptions in Python.\n",
    "    "
   ]
  },
  {
   "cell_type": "code",
   "execution_count": 9,
   "id": "d29b3d72",
   "metadata": {},
   "outputs": [
    {
     "ename": "SyntaxError",
     "evalue": "unmatched ')' (2439939395.py, line 3)",
     "output_type": "error",
     "traceback": [
      "\u001b[1;36m  Input \u001b[1;32mIn [9]\u001b[1;36m\u001b[0m\n\u001b[1;33m    print(a)) #too many brackets\u001b[0m\n\u001b[1;37m            ^\u001b[0m\n\u001b[1;31mSyntaxError\u001b[0m\u001b[1;31m:\u001b[0m unmatched ')'\n"
     ]
    }
   ],
   "source": [
    "#Example of Syntax Error:\n",
    "a = 5\n",
    "print(a)) #too many brackets"
   ]
  },
  {
   "cell_type": "code",
   "execution_count": 8,
   "id": "89c4a190",
   "metadata": {
    "scrolled": true
   },
   "outputs": [
    {
     "ename": "ZeroDivisionError",
     "evalue": "division by zero",
     "output_type": "error",
     "traceback": [
      "\u001b[1;31m---------------------------------------------------------------------------\u001b[0m",
      "\u001b[1;31mZeroDivisionError\u001b[0m                         Traceback (most recent call last)",
      "Input \u001b[1;32mIn [8]\u001b[0m, in \u001b[0;36m<cell line: 2>\u001b[1;34m()\u001b[0m\n\u001b[0;32m      1\u001b[0m \u001b[38;5;66;03m#Example of Exceptions:\u001b[39;00m\n\u001b[1;32m----> 2\u001b[0m \u001b[38;5;28mprint\u001b[39m(\u001b[38;5;241;43m0\u001b[39;49m\u001b[38;5;241;43m/\u001b[39;49m\u001b[38;5;241;43m0\u001b[39;49m)\n",
      "\u001b[1;31mZeroDivisionError\u001b[0m: division by zero"
     ]
    }
   ],
   "source": [
    "#Example of Exceptions:\n",
    "print(0/0) #Though syntactically correct but division by 0 is not allowed"
   ]
  },
  {
   "cell_type": "markdown",
   "id": "11cb5c22",
   "metadata": {},
   "source": [
    "### Q2. What happens when an Exception is not handled? Explain with an example.\n",
    "        \n",
    "  When an Exception is unhandled, the program will terminate abruptly. Any further code will also stop executing. The error message will be printed in the console. Example below: ZeroDivisionError is raised when trying to divide a number by 0. Program will terminate and any subsequent code will not execute."
   ]
  },
  {
   "cell_type": "code",
   "execution_count": 13,
   "id": "d138084d",
   "metadata": {},
   "outputs": [
    {
     "ename": "IndexError",
     "evalue": "list index out of range",
     "output_type": "error",
     "traceback": [
      "\u001b[1;31m---------------------------------------------------------------------------\u001b[0m",
      "\u001b[1;31mIndexError\u001b[0m                                Traceback (most recent call last)",
      "Input \u001b[1;32mIn [13]\u001b[0m, in \u001b[0;36m<cell line: 2>\u001b[1;34m()\u001b[0m\n\u001b[0;32m      1\u001b[0m num_arr \u001b[38;5;241m=\u001b[39m [\u001b[38;5;241m44\u001b[39m, \u001b[38;5;241m55\u001b[39m, \u001b[38;5;241m11\u001b[39m, \u001b[38;5;241m99\u001b[39m, \u001b[38;5;241m33\u001b[39m]\n\u001b[1;32m----> 2\u001b[0m \u001b[43mnum_arr\u001b[49m\u001b[43m[\u001b[49m\u001b[38;5;241;43m5\u001b[39;49m\u001b[43m]\u001b[49m\n\u001b[0;32m      4\u001b[0m \u001b[38;5;28mprint\u001b[39m(\u001b[38;5;124m'\u001b[39m\u001b[38;5;124mThis will not print\u001b[39m\u001b[38;5;124m'\u001b[39m)\n",
      "\u001b[1;31mIndexError\u001b[0m: list index out of range"
     ]
    }
   ],
   "source": [
    "num_arr = [44, 55, 11, 99, 33]\n",
    "num_arr[5]\n",
    "\n",
    "print('This will not print')"
   ]
  },
  {
   "cell_type": "markdown",
   "id": "6b2ce21e",
   "metadata": {},
   "source": [
    "### Q3. Which Python statements are used to catch and handle exceptions? Explain with an example.\n",
    "\n",
    "try...except statements are used to catch and handle exceptions. In continuation to above example for ZeroDivisionError, the exception can be handled by putting the suspicious code in a try block. Exception clause determines how the program responds to the Exception. This will not let the program end abruptly, and a proper error message will be displayed either in the console or in the logger file."
   ]
  },
  {
   "cell_type": "code",
   "execution_count": 1,
   "id": "d4d8dfc7",
   "metadata": {},
   "outputs": [
    {
     "name": "stdout",
     "output_type": "stream",
     "text": [
      "A number cannot be divided by Zero\n"
     ]
    }
   ],
   "source": [
    "try:\n",
    "    a = 10\n",
    "    result = a/0\n",
    "except ZeroDivisionError as e:\n",
    "    print('A number cannot be divided by Zero')"
   ]
  },
  {
   "cell_type": "markdown",
   "id": "59ced071",
   "metadata": {},
   "source": [
    "### Q4. Explain with an example: try and else, finally, raise\n",
    "\n",
    "- **try and else:** Any suspiciuos code, which you think might throw error is enclosed in try block. else block is written after except block. else block executes only when there are no exceptions encountered in try block.\n",
    "\n",
    "- **finally:** finally block executes everytime, whether or not an Exception is raised in try block. This block is usually used to do some sort of cleanup action like close a database.\n",
    "\n",
    "- **raise:** raise statement allows the programmer to force a specified exception to occur. raise is also when creating custom exceptions."
   ]
  },
  {
   "cell_type": "code",
   "execution_count": 12,
   "id": "43b79cf2",
   "metadata": {},
   "outputs": [
    {
     "name": "stdout",
     "output_type": "stream",
     "text": [
      "Your answer is:  3.0\n",
      "this is always executed\n",
      "Cannot divide by zero\n",
      "this is always executed\n"
     ]
    }
   ],
   "source": [
    "# try, else, finally\n",
    "\n",
    "def divide(x, y):\n",
    "    try:\n",
    "        result = x/y\n",
    "    except ZeroDivisionError:\n",
    "        print(\"Cannot divide by zero\")\n",
    "    else:\n",
    "        print(\"Your answer is: \", result)\n",
    "    finally:\n",
    "        print('this is always executed')\n",
    "        \n",
    "divide(9,3)\n",
    "divide(9,0)        \n"
   ]
  },
  {
   "cell_type": "code",
   "execution_count": 11,
   "id": "adf13f6d",
   "metadata": {},
   "outputs": [
    {
     "ename": "Exception",
     "evalue": "Number cannot be negative",
     "output_type": "error",
     "traceback": [
      "\u001b[1;31m---------------------------------------------------------------------------\u001b[0m",
      "\u001b[1;31mException\u001b[0m                                 Traceback (most recent call last)",
      "Input \u001b[1;32mIn [11]\u001b[0m, in \u001b[0;36m<cell line: 4>\u001b[1;34m()\u001b[0m\n\u001b[0;32m      2\u001b[0m x \u001b[38;5;241m=\u001b[39m \u001b[38;5;241m-\u001b[39m\u001b[38;5;241m1\u001b[39m\n\u001b[0;32m      4\u001b[0m \u001b[38;5;28;01mif\u001b[39;00m x \u001b[38;5;241m<\u001b[39m \u001b[38;5;241m0\u001b[39m:\n\u001b[1;32m----> 5\u001b[0m     \u001b[38;5;28;01mraise\u001b[39;00m \u001b[38;5;167;01mException\u001b[39;00m(\u001b[38;5;124m'\u001b[39m\u001b[38;5;124mNumber cannot be negative\u001b[39m\u001b[38;5;124m'\u001b[39m)\n",
      "\u001b[1;31mException\u001b[0m: Number cannot be negative"
     ]
    }
   ],
   "source": [
    "# raise\n",
    "x = -1\n",
    "\n",
    "if x < 0:\n",
    "    raise Exception('Number cannot be negative')"
   ]
  },
  {
   "cell_type": "markdown",
   "id": "d2cfcc66",
   "metadata": {},
   "source": [
    "### Q5. What are Custom Exception in Python. Why do we need Custom Exceptions? Explain with an example.\n",
    "\n",
    "Python has many built-in Exceptions, but sometimes we may need to create our own custom exceptions that serve our purpose. In Python we can define custom excpetions by creating a new class that is derived from the built-in Exception class. For example, minimum age to vote is 18. This scenario can be handled using custom exceptions. Example in the next question."
   ]
  },
  {
   "cell_type": "markdown",
   "id": "9d11c011",
   "metadata": {},
   "source": [
    "### Q6. Create a custom exception class. Use this class to handle the exception."
   ]
  },
  {
   "cell_type": "code",
   "execution_count": 6,
   "id": "15d2a83c",
   "metadata": {},
   "outputs": [
    {
     "name": "stdout",
     "output_type": "stream",
     "text": [
      "Enter age:2\n",
      "Exception occured: Invalid Age\n"
     ]
    }
   ],
   "source": [
    "# InvalidAgeException is the Custom Exception class \n",
    "class InvalidAgeException(Exception):\n",
    "    \"Raised when input value is less than 18\"\n",
    "    pass\n",
    "try:\n",
    "    input_num = int(input(\"Enter age:\"))\n",
    "    if input_num < 18:\n",
    "        raise InvalidAgeException\n",
    "    else:\n",
    "        print(\"Eligible to Vote\")\n",
    "except InvalidAgeException:\n",
    "    print(\"Exception occured: Invalid Age\")\n",
    "    "
   ]
  }
 ],
 "metadata": {
  "kernelspec": {
   "display_name": "Python 3 (ipykernel)",
   "language": "python",
   "name": "python3"
  },
  "language_info": {
   "codemirror_mode": {
    "name": "ipython",
    "version": 3
   },
   "file_extension": ".py",
   "mimetype": "text/x-python",
   "name": "python",
   "nbconvert_exporter": "python",
   "pygments_lexer": "ipython3",
   "version": "3.9.12"
  }
 },
 "nbformat": 4,
 "nbformat_minor": 5
}
