{
 "cells": [
  {
   "cell_type": "markdown",
   "id": "0287d042",
   "metadata": {},
   "source": [
    "### Python Basic Variable"
   ]
  },
  {
   "cell_type": "markdown",
   "id": "18c36ad2",
   "metadata": {},
   "source": [
    "1.Declare two variables, `x` and `y`, and assign them integer values. Swap the\n",
    "values of these variables without using any temporary variable."
   ]
  },
  {
   "cell_type": "code",
   "execution_count": 5,
   "id": "5c8af868",
   "metadata": {
    "scrolled": true
   },
   "outputs": [
    {
     "name": "stdout",
     "output_type": "stream",
     "text": [
      "300 200\n"
     ]
    }
   ],
   "source": [
    "x = 200\n",
    "y = 300\n",
    "\n",
    "x, y = y, x\n",
    "print(x, y)"
   ]
  },
  {
   "cell_type": "markdown",
   "id": "b1a5af2a",
   "metadata": {},
   "source": [
    "2. Create a program that calculates the area of a rectangle. Take the length and\n",
    "width as inputs from the user and store them in variables. Calculate and\n",
    "display the area."
   ]
  },
  {
   "cell_type": "code",
   "execution_count": 7,
   "id": "b4d66a96",
   "metadata": {},
   "outputs": [
    {
     "name": "stdout",
     "output_type": "stream",
     "text": [
      "Enter the length of the rectangle: 12\n",
      "Enter the width of the rectangle: 3\n",
      "Area the the rectangle is 36\n"
     ]
    }
   ],
   "source": [
    "length = int(input(\"Enter the length of the rectangle: \"))\n",
    "width = int(input(\"Enter the width of the rectangle: \"))\n",
    "area = length*width\n",
    "print(f\"Area the the rectangle is {area}\")"
   ]
  },
  {
   "cell_type": "markdown",
   "id": "e20231b8",
   "metadata": {},
   "source": [
    "3. Write a Python program that converts temperatures from Celsius to\n",
    "Fahrenheit. Take the temperature in Celsius as input, store it in a variable,\n",
    "convert it to Fahrenheit, and display the result."
   ]
  },
  {
   "cell_type": "code",
   "execution_count": 8,
   "id": "4f73688a",
   "metadata": {},
   "outputs": [
    {
     "name": "stdout",
     "output_type": "stream",
     "text": [
      "Enter temperature in Celsius: 23\n",
      "Temperature in Fahrenheit: 73.4\n"
     ]
    }
   ],
   "source": [
    "temp_celsius = int(input(\"Enter temperature in Celsius: \"))\n",
    "fahrenheit = (1.8 * temp_celsius) + 32\n",
    "print('Temperature in Fahrenheit:', fahrenheit)"
   ]
  },
  {
   "cell_type": "markdown",
   "id": "1f3abbdb",
   "metadata": {},
   "source": [
    "### String Based Questions"
   ]
  },
  {
   "cell_type": "markdown",
   "id": "e4ef580a",
   "metadata": {},
   "source": [
    "1. Write a Python program that takes a string as input and prints the length of\n",
    "the string."
   ]
  },
  {
   "cell_type": "code",
   "execution_count": 1,
   "id": "d24feba3",
   "metadata": {},
   "outputs": [
    {
     "name": "stdout",
     "output_type": "stream",
     "text": [
      "Enter a string: cool\n",
      "Length of the string is 4\n"
     ]
    }
   ],
   "source": [
    "str = input('Enter a string: ')\n",
    "len_str = len(str)\n",
    "print('Length of the string is', len_str)"
   ]
  },
  {
   "cell_type": "markdown",
   "id": "659148cb",
   "metadata": {},
   "source": [
    "2. Create a program that takes a sentence from the user and counts the number\n",
    "of vowels (a, e, i, o, u) in the string."
   ]
  },
  {
   "cell_type": "code",
   "execution_count": 11,
   "id": "b75518fb",
   "metadata": {},
   "outputs": [
    {
     "name": "stdout",
     "output_type": "stream",
     "text": [
      "Enter a sentence: mindful\n",
      "Total number of vowels: 2\n"
     ]
    }
   ],
   "source": [
    "str = input(\"Enter a sentence: \")\n",
    "vowels = 'aeiou'\n",
    "count = 0\n",
    "for alphabet in str:\n",
    "    if alphabet in vowels:\n",
    "        count = count + 1;\n",
    "print('Total number of vowels:', count)"
   ]
  },
  {
   "cell_type": "markdown",
   "id": "04f0995f",
   "metadata": {},
   "source": [
    "3. Given a string, reverse the order of characters using string slicing and print\n",
    "the reversed string."
   ]
  },
  {
   "cell_type": "code",
   "execution_count": 2,
   "id": "05484d3e",
   "metadata": {},
   "outputs": [
    {
     "name": "stdout",
     "output_type": "stream",
     "text": [
      ".nuf si nohtyP\n"
     ]
    }
   ],
   "source": [
    "str = 'Python is fun.'\n",
    "reverse_str = str[::-1]\n",
    "print(reverse_str)"
   ]
  },
  {
   "cell_type": "markdown",
   "id": "c1776fd6",
   "metadata": {},
   "source": [
    "4. Write a program that takes a string as input and checks if it is a palindrome\n",
    "(reads the same forwards and backwards)."
   ]
  },
  {
   "cell_type": "code",
   "execution_count": 4,
   "id": "a7f07809",
   "metadata": {},
   "outputs": [
    {
     "name": "stdout",
     "output_type": "stream",
     "text": [
      "Is Palindrome? True\n"
     ]
    }
   ],
   "source": [
    "str = 'rotator'\n",
    "reverse_str = str[::-1]\n",
    "print('Is Palindrome?', reverse_str == str)"
   ]
  },
  {
   "cell_type": "markdown",
   "id": "094dbeb9",
   "metadata": {},
   "source": [
    "5. Create a program that takes a string as input and removes all the spaces from\n",
    "it. Print the modified string without spaces."
   ]
  },
  {
   "cell_type": "code",
   "execution_count": 5,
   "id": "f5736f9b",
   "metadata": {},
   "outputs": [
    {
     "data": {
      "text/plain": [
       "'pwskills'"
      ]
     },
     "execution_count": 5,
     "metadata": {},
     "output_type": "execute_result"
    }
   ],
   "source": [
    "str = '   pw skills  '\n",
    "str.replace(\" \", \"\")"
   ]
  }
 ],
 "metadata": {
  "kernelspec": {
   "display_name": "Python 3 (ipykernel)",
   "language": "python",
   "name": "python3"
  },
  "language_info": {
   "codemirror_mode": {
    "name": "ipython",
    "version": 3
   },
   "file_extension": ".py",
   "mimetype": "text/x-python",
   "name": "python",
   "nbconvert_exporter": "python",
   "pygments_lexer": "ipython3",
   "version": "3.9.12"
  }
 },
 "nbformat": 4,
 "nbformat_minor": 5
}
